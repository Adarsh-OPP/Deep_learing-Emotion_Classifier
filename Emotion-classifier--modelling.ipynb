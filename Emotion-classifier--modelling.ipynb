{
 "cells": [
  {
   "cell_type": "markdown",
   "metadata": {
    "id": "KuzAF6GoairU"
   },
   "source": [
    "**Downloading Data Set**"
   ]
  },
  {
   "cell_type": "code",
   "execution_count": 1,
   "metadata": {
    "id": "EFHGgA7xWAU9"
   },
   "outputs": [
    {
     "ename": "ModuleNotFoundError",
     "evalue": "No module named 'kagglehub'",
     "output_type": "error",
     "traceback": [
      "\u001b[31m---------------------------------------------------------------------------\u001b[39m",
      "\u001b[31mModuleNotFoundError\u001b[39m                       Traceback (most recent call last)",
      "\u001b[36mCell\u001b[39m\u001b[36m \u001b[39m\u001b[32mIn[1]\u001b[39m\u001b[32m, line 1\u001b[39m\n\u001b[32m----> \u001b[39m\u001b[32m1\u001b[39m \u001b[38;5;28;01mimport\u001b[39;00m\u001b[38;5;250m \u001b[39m\u001b[34;01mkagglehub\u001b[39;00m\n\u001b[32m      3\u001b[39m path = kagglehub.dataset_download(\u001b[33m\"\u001b[39m\u001b[33mmuhammadhananasghar/human-emotions-datasethes\u001b[39m\u001b[33m\"\u001b[39m)\n",
      "\u001b[31mModuleNotFoundError\u001b[39m: No module named 'kagglehub'"
     ]
    }
   ],
   "source": [
    "import kagglehub\n",
    "\n",
    "path = kagglehub.dataset_download(\"muhammadhananasghar/human-emotions-datasethes\")"
   ]
  },
  {
   "cell_type": "markdown",
   "metadata": {
    "id": "_cCKEeO7awKC"
   },
   "source": [
    "**Making Train and Test Directory(Location)**"
   ]
  },
  {
   "cell_type": "code",
   "execution_count": null,
   "metadata": {
    "id": "SlA0C0QgWFWG"
   },
   "outputs": [],
   "source": [
    "train_directory = \"/kaggle/input/human-emotions-datasethes/Emotions Dataset/Emotions Dataset/train\"#Change path to train path\n",
    "test_directory = \"/kaggle/input/human-emotions-datasethes/Emotions Dataset/Emotions Dataset/test\"#Change path to test path\n",
    "\n",
    "CONFIGURATION = {\n",
    "    \"BATCH_SIZE\": 16,\n",
    "    \"IM_SIZE\": 256,\n",
    "    \"LEARNING_RATE\": 1e-3,\n",
    "    \"N_EPOCHS\": 20,\n",
    "    \"N_FILTERS\": 6,\n",
    "    \"KERNEL_SIZE\": 3,\n",
    "    \"N_STRIDES\": 1,\n",
    "    \"POOL_SIZE\": 2,\n",
    "    \"N_DENSE_1\": 1024,\n",
    "    \"N_DENSE_2\": 128,\n",
    "    \"NUM_CLASSES\": 3,\n",
    "    \"PATCH_SIZE\": 16,\n",
    "    \"PROJ_DIM\": 768,\n",
    "    \"CLASS_NAMES\": [\"angry\", \"happy\", \"sad\"],\n",
    "}"
   ]
  },
  {
   "cell_type": "markdown",
   "metadata": {
    "id": "2MA_2uNUbmIi"
   },
   "source": [
    "**Making Train and Test Data Set**"
   ]
  },
  {
   "cell_type": "code",
   "execution_count": null,
   "metadata": {
    "id": "hq8OXpamblqA"
   },
   "outputs": [],
   "source": [
    "import tensorflow as tf\n",
    "\n",
    "train_dataset = tf.keras.preprocessing.image_dataset_from_directory(\n",
    "    train_directory,\n",
    "    labels='inferred', #labels will be genrated as there stored folder name\n",
    "    label_mode='categorical', #it work as one-hot-incoder like in case of angry label it will give angry value of 1 and happy-sad will get 0, such to all\n",
    "    class_names=CONFIGURATION[\"CLASS_NAMES\"],#put all labels(folder name)\n",
    "    color_mode='rgb',\n",
    "    batch_size=CONFIGURATION[\"BATCH_SIZE\"], # Use updated batch size from CONFIGURATION\n",
    "    image_size=(256, 256),\n",
    "    shuffle=True,\n",
    "    seed=42,\n",
    "    validation_split=None,#if we dont have saperate test then put split value ie 0.2\n",
    "    subset=None#if have split then need to specify it ie \"traing\" or \"validation\"(test)\n",
    ")"
   ]
  },
  {
   "cell_type": "code",
   "execution_count": null,
   "metadata": {
    "id": "jOlLQcuacW8x"
   },
   "outputs": [],
   "source": [
    "test_dataset = tf.keras.preprocessing.image_dataset_from_directory(\n",
    "    test_directory,\n",
    "    labels='inferred',\n",
    "    label_mode='categorical',\n",
    "    class_names=CONFIGURATION[\"CLASS_NAMES\"],\n",
    "    color_mode='rgb',\n",
    "    batch_size=CONFIGURATION[\"BATCH_SIZE\"], # Use updated batch size from CONFIGURATION\n",
    "    image_size=(256, 256),\n",
    "    shuffle=True,\n",
    "    seed=42\n",
    ")"
   ]
  },
  {
   "cell_type": "code",
   "execution_count": null,
   "metadata": {
    "id": "SpswHkMhgkvi"
   },
   "outputs": [],
   "source": [
    "#lets see images tensors\n",
    "for i in train_dataset.take(1):\n",
    "  print(i)"
   ]
  },
  {
   "cell_type": "code",
   "execution_count": null,
   "metadata": {
    "id": "q1nqkfbvhHKi"
   },
   "outputs": [],
   "source": [
    "#lets see the image\n",
    "import matplotlib.pyplot as plt\n",
    "\n",
    "plt.figure(figsize=(12, 12))\n",
    "for images, labels in train_dataset.take(1):\n",
    "  for i in  range(16):\n",
    "    plt.subplot(4,4,i+1)\n",
    "    plt.imshow(images[i]/255.0)\n",
    "    plt.title(tf.argmax(labels[i],axis=0).numpy())\n",
    "    plt.axis(\"off\")"
   ]
  },
  {
   "cell_type": "code",
   "execution_count": null,
   "metadata": {
    "id": "OYTWa-dSihxN"
   },
   "outputs": [],
   "source": [
    "# Prefetch to improve performance by preparing the next batch while the current one is being processed\n",
    "training_dataset = train_dataset.prefetch(tf.data.AUTOTUNE)\n",
    "\n",
    "# Same for testing/validation dataset to speed up evaluation\n",
    "testing_dataset = test_dataset.prefetch(tf.data.AUTOTUNE)\n"
   ]
  },
  {
   "cell_type": "markdown",
   "metadata": {
    "id": "m8jqdkP2nxXa"
   },
   "source": [
    "\n",
    "\n",
    "> **Making Model**\n",
    "\n"
   ]
  },
  {
   "cell_type": "code",
   "execution_count": null,
   "metadata": {
    "id": "wlOEYT6KlcNi"
   },
   "outputs": [],
   "source": [
    "\n",
    "from tensorflow.keras.models import Sequential\n",
    "from tensorflow.keras.layers import Dense,InputLayer,Rescaling, Resizing\n",
    "\n",
    "from tensorflow.keras.layers import Conv2D #Conv2D detects patterns like edges and shapes in images automatically for better training\n",
    "from tensorflow.keras.layers import Flatten #Flatten reshapes the output of Conv2D/MaxPool2D layers 1D which is needed for Dense\n",
    "from tensorflow.keras.layers import BatchNormalization #faster and more stable training|||PUT AFTER ALL Conv2D and Dense layer\n",
    "from tensorflow.keras.layers import MaxPool2D #MaxPool2D reduces the spatial dimensions of feature maps while keeping the most important features.(less computing)\n",
    "\n",
    "\n",
    "#Lets create resize_rescale_layer for input of image\n",
    "resize_rescale_layer = Sequential([\n",
    "    Resizing(256, 256),   # Resize all input images to 256x256 pixels for consistent input shape\n",
    "    Rescaling(1./255)     # Normalize pixel values from [0,255] to [0,1] for faster and stable training\n",
    "])\n"
   ]
  },
  {
   "cell_type": "code",
   "execution_count": null,
   "metadata": {
    "id": "y4MyYWguqJAa"
   },
   "outputs": [],
   "source": [
    "emotion_model = tf.keras.Sequential(\n",
    "    [\n",
    "    InputLayer(input_shape = (None,None, 3), ),\n",
    "\n",
    "    resize_rescale_layer,\n",
    "\n",
    "    Conv2D(filters = CONFIGURATION[\"N_FILTERS\"] , kernel_size = CONFIGURATION[\"KERNEL_SIZE\"], strides = CONFIGURATION[\"N_STRIDES\"] , padding='same',\n",
    "    activation = 'relu'),\n",
    "\n",
    "    BatchNormalization(),\n",
    "\n",
    "    MaxPool2D (pool_size = CONFIGURATION[\"POOL_SIZE\"], strides= CONFIGURATION[\"N_STRIDES\"]*2),\n",
    "\n",
    "    Conv2D(filters = CONFIGURATION[\"N_FILTERS\"]*2 + 4, kernel_size = CONFIGURATION[\"KERNEL_SIZE\"], strides=CONFIGURATION[\"N_STRIDES\"], padding='same',\n",
    "          activation = 'relu'),\n",
    "\n",
    "    BatchNormalization(),\n",
    "\n",
    "    MaxPool2D (pool_size = CONFIGURATION[\"POOL_SIZE\"], strides= CONFIGURATION[\"N_STRIDES\"]*2),\n",
    "\n",
    "    Flatten(),\n",
    "\n",
    "    Dense( CONFIGURATION[\"N_DENSE_1\"], activation = \"relu\"),\n",
    "\n",
    "    BatchNormalization(),\n",
    "\n",
    "    Dense( CONFIGURATION['N_DENSE_2'], activation = \"relu\"),\n",
    "\n",
    "    BatchNormalization(),\n",
    "\n",
    "    Dense(CONFIGURATION[\"NUM_CLASSES\"], activation = \"softmax\"),\n",
    "\n",
    "])\n",
    "\n",
    "emotion_model.summary()"
   ]
  },
  {
   "cell_type": "markdown",
   "metadata": {
    "id": "ZYN-waevRAky"
   },
   "source": [
    "**Training**"
   ]
  },
  {
   "cell_type": "code",
   "execution_count": null,
   "metadata": {
    "id": "hDgu4Y7fsxEM"
   },
   "outputs": [],
   "source": [
    "\n",
    "from tensorflow.keras.optimizers import Adam\n",
    "from tensorflow.keras.losses import CategoricalCrossentropy #CategoricalCrossentropy() tells the model how wrong its predicted class probabilities are, and the optimizer uses that to adjust weights during training.\n",
    "\n",
    "from tensorflow.keras.metrics import CategoricalAccuracy, TopKCategoricalAccuracy #Checks if the model’s top (highest) predicted class matches the true class.It’s “Top-1” accuracy — only counts as correct if the model’s #1 guess is right\n",
    "\n",
    "from tensorflow.keras.metrics import TopKCategoricalAccuracy #Checks if the true class is among the top-k predicted classes.For example, if k=2, it’s correct if the true class is in the top 2 probabilities.\n",
    "\n",
    "\n",
    "\n",
    "loss_function = CategoricalCrossentropy()\n",
    "\n",
    "metrics = [CategoricalAccuracy (name = \"accuracy\"), TopKCategoricalAccuracy( k=2 , name=\"top_k_accuracy\")]"
   ]
  },
  {
   "cell_type": "code",
   "execution_count": null,
   "metadata": {
    "id": "0dPuLsYDTPyP"
   },
   "outputs": [],
   "source": [
    "\n",
    "#main training\n",
    "emotion_model.compile(\n",
    "    optimizer = Adam(learning_rate=CONFIGURATION[\"LEARNING_RATE\"]),\n",
    "    loss = loss_function,\n",
    "    metrics = metrics\n",
    ")"
   ]
  },
  {
   "cell_type": "code",
   "execution_count": null,
   "metadata": {
    "id": "OexmuLYIVKX9"
   },
   "outputs": [],
   "source": [
    "\n",
    "History = emotion_model.fit(\n",
    "training_dataset,#Each batch gives (X_train, y_train) — images + correct emotion labels.\n",
    "validation_data = testing_dataset,#Used to check how well the model generalizes to unseen data after each epoch\n",
    "epochs = 20, #Model sees every training image 10 times\n",
    "verbose = 1,\n",
    ")"
   ]
  },
  {
   "cell_type": "code",
   "execution_count": null,
   "metadata": {
    "id": "VAQcmBOOW0tY"
   },
   "outputs": [],
   "source": [
    "emotion_model.save(\"emotion_model.h5\")"
   ]
  },
  {
   "cell_type": "code",
   "execution_count": null,
   "metadata": {
    "id": "aa2dbfd2"
   },
   "outputs": [],
   "source": [
    "#/////////////////UNCOMMENT TO DOWNLOAD MODEL///////////////////////\n",
    "\n",
    "\n",
    "\n",
    "# from google.colab import files\n",
    "\n",
    "# files.download('emotion_model.h5')"
   ]
  },
  {
   "cell_type": "markdown",
   "metadata": {},
   "source": [
    "***Please refer Model-Test.ipynb to test the Model***"
   ]
  }
 ],
 "metadata": {
  "accelerator": "GPU",
  "colab": {
   "gpuType": "T4",
   "provenance": []
  },
  "kernelspec": {
   "display_name": "Python 3 (ipykernel)",
   "language": "python",
   "name": "python3"
  },
  "language_info": {
   "codemirror_mode": {
    "name": "ipython",
    "version": 3
   },
   "file_extension": ".py",
   "mimetype": "text/x-python",
   "name": "python",
   "nbconvert_exporter": "python",
   "pygments_lexer": "ipython3",
   "version": "3.13.5"
  }
 },
 "nbformat": 4,
 "nbformat_minor": 4
}
